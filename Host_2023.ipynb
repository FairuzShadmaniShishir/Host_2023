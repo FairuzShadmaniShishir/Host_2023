{
 "cells": [
  {
   "cell_type": "code",
   "execution_count": 198,
   "id": "6b851080",
   "metadata": {},
   "outputs": [],
   "source": [
    "%matplotlib inline\n",
    "import PIL\n",
    "import tqdm\n",
    "import pickle\n",
    "import numpy as np\n",
    "import matplotlib.pyplot as plt\n",
    "#from torchvision import datasets\n",
    "from skimage.filters import gabor\n",
    "from skimage.feature import local_binary_pattern, greycomatrix, greycoprops\n",
    "import glob\n",
    "import cv2\n",
    "import os\n",
    "from PIL import Image"
   ]
  },
  {
   "cell_type": "code",
   "execution_count": 199,
   "id": "d3ec57d4",
   "metadata": {},
   "outputs": [],
   "source": [
    "kernel = np.array([[0, -1, 0],\n",
    "                   [-1, 5,-1],\n",
    "                   [0, -1, 0]])"
   ]
  },
  {
   "cell_type": "code",
   "execution_count": 200,
   "id": "0acd7860",
   "metadata": {},
   "outputs": [
    {
     "name": "stdout",
     "output_type": "stream",
     "text": [
      "A-D-08DIP-01B-SM.png\n",
      "(1920, 2560, 3)\n",
      "1920\n",
      "2560\n",
      "A-D-08DIP-01F-SM.png\n",
      "(1920, 2560, 3)\n",
      "1920\n",
      "2560\n",
      "A-D-08DIP-02B-SM.png\n",
      "(1920, 2560, 3)\n",
      "1920\n",
      "2560\n",
      "A-D-08DIP-02F-SM.png\n",
      "(1920, 2560, 3)\n",
      "1920\n",
      "2560\n",
      "A-D-08DIP-03B-SM.png\n",
      "(1920, 2560, 3)\n",
      "1920\n",
      "2560\n",
      "A-D-08DIP-03F-SM.png\n",
      "(1920, 2560, 3)\n",
      "1920\n",
      "2560\n",
      "A-D-08DIP-04B-SM.png\n",
      "(1920, 2560, 3)\n",
      "1920\n",
      "2560\n",
      "A-D-08DIP-04F-SM.png\n",
      "(1920, 2560, 3)\n",
      "1920\n",
      "2560\n",
      "A-D-08DIP-05B-SM.png\n",
      "(1920, 2560, 3)\n",
      "1920\n",
      "2560\n",
      "A-D-08DIP-05F-SM.png\n",
      "(1920, 2560, 3)\n",
      "1920\n",
      "2560\n",
      "A-D-08DIP-06B-SM.png\n",
      "(1920, 2560, 3)\n",
      "1920\n",
      "2560\n",
      "A-D-08DIP-06F-SM.png\n",
      "(1920, 2560, 3)\n",
      "1920\n",
      "2560\n",
      "A-D-08DIP-07B-SM.png\n",
      "(1920, 2560, 3)\n",
      "1920\n",
      "2560\n",
      "A-D-08DIP-07F-SM.png\n",
      "(1920, 2560, 3)\n",
      "1920\n",
      "2560\n",
      "A-D-08DIP-08B-SM.png\n",
      "(1920, 2560, 3)\n",
      "1920\n",
      "2560\n",
      "A-D-08DIP-08F-SM.png\n",
      "(1920, 2560, 3)\n",
      "1920\n",
      "2560\n",
      "A-D-08DIP-09B-SM.png\n",
      "(1920, 2560, 3)\n",
      "1920\n",
      "2560\n",
      "A-D-08DIP-09F-SM.png\n",
      "(1920, 2560, 3)\n",
      "1920\n",
      "2560\n",
      "A-D-08DIP-10B-SM.png\n",
      "(1920, 2560, 3)\n",
      "1920\n",
      "2560\n",
      "A-D-08DIP-10F-SM.png\n",
      "(1920, 2560, 3)\n",
      "1920\n",
      "2560\n",
      "A-D-16SOIC-06B-D.PNG\n",
      "(1920, 2560, 3)\n",
      "1920\n",
      "2560\n",
      "A-D-16SOIC-06F-D.PNG\n",
      "(1920, 2560, 3)\n",
      "1920\n",
      "2560\n",
      "A-D-16SOIC-07B-D.PNG\n",
      "(1920, 2560, 3)\n",
      "1920\n",
      "2560\n",
      "A-D-16SOIC-07F-D.PNG\n",
      "(1920, 2560, 3)\n",
      "1920\n",
      "2560\n",
      "A-D-64QFP-14B-SM.png\n",
      "(1920, 2560, 3)\n",
      "1920\n",
      "2560\n",
      "A-D-64QFP-14F-SM.png\n",
      "(1920, 2560, 3)\n",
      "1920\n",
      "2560\n",
      "A-D-64QFP-15B-SM.png\n",
      "(1920, 2560, 3)\n",
      "1920\n",
      "2560\n",
      "A-D-64QFP-15F-SM.png\n",
      "(1920, 2560, 3)\n",
      "1920\n",
      "2560\n",
      "A-D-64QFP-16B-SM.png\n",
      "(1920, 2560, 3)\n",
      "1920\n",
      "2560\n",
      "A-D-64QFP-16F-SM.png\n",
      "(1920, 2560, 3)\n",
      "1920\n",
      "2560\n",
      "A-D-64QFP-17B-SM.png\n",
      "(1920, 2560, 3)\n",
      "1920\n",
      "2560\n",
      "A-D-64QFP-17F-SM.png\n",
      "(1920, 2560, 3)\n",
      "1920\n",
      "2560\n",
      "A-D-64QFP-18B-SM.png\n",
      "(1920, 2560, 3)\n",
      "1920\n",
      "2560\n",
      "A-D-64QFP-18F-SM.png\n",
      "(1920, 2560, 3)\n",
      "1920\n",
      "2560\n",
      "A-D-64QFP-24B-D.png\n",
      "(1920, 2560, 3)\n",
      "1920\n",
      "2560\n",
      "A-D-64QFP-24F-D.png\n",
      "(1920, 2560, 3)\n",
      "1920\n",
      "2560\n",
      "A-D-64QFP-25B-D.png\n",
      "(1920, 2560, 3)\n",
      "1920\n",
      "2560\n",
      "A-D-64QFP-25F-D.png\n",
      "(1920, 2560, 3)\n",
      "1920\n",
      "2560\n",
      "A-D-64QFP-26B-D.png\n",
      "(1920, 2560, 3)\n",
      "1920\n",
      "2560\n",
      "A-D-64QFP-26F-D.png\n",
      "(1920, 2560, 3)\n",
      "1920\n",
      "2560\n",
      "A-D-64QFP-27B-D.png\n",
      "(1920, 2560, 3)\n",
      "1920\n",
      "2560\n",
      "A-D-64QFP-27F-D.png\n",
      "(1920, 2560, 3)\n",
      "1920\n",
      "2560\n",
      "A-D-64QFP-28B-D.png\n",
      "(1920, 2560, 3)\n",
      "1920\n",
      "2560\n",
      "A-D-64QFP-28F-D.png\n",
      "(1920, 2560, 3)\n",
      "1920\n",
      "2560\n",
      "A-D-64QFP-29B-D.png\n",
      "(1920, 2560, 3)\n",
      "1920\n",
      "2560\n",
      "A-D-64QFP-29F-D.png\n",
      "(1920, 2560, 3)\n",
      "1920\n",
      "2560\n",
      "A-D-64QFP-30B-D.png\n",
      "(1920, 2560, 3)\n",
      "1920\n",
      "2560\n",
      "A-D-64QFP-30F-D.png\n",
      "(1920, 2560, 3)\n",
      "1920\n",
      "2560\n",
      "A-D-64QFP-31B-D.png\n",
      "(1920, 2560, 3)\n",
      "1920\n",
      "2560\n",
      "A-D-64QFP-31F-D.png\n",
      "(1920, 2560, 3)\n",
      "1920\n",
      "2560\n",
      "A-D-64QFP-32B-D.png\n",
      "(1920, 2560, 3)\n",
      "1920\n",
      "2560\n",
      "A-D-64QFP-32F-D.png\n",
      "(1920, 2560, 3)\n",
      "1920\n",
      "2560\n",
      "A-D-64QFP-33B-D.png\n",
      "(1920, 2560, 3)\n",
      "1920\n",
      "2560\n",
      "A-D-64QFP-33F-D.png\n",
      "(1920, 2560, 3)\n",
      "1920\n",
      "2560\n",
      "A-D-64QFP-34B-D.png\n",
      "(1920, 2560, 3)\n",
      "1920\n",
      "2560\n",
      "A-D-64QFP-34F-D.png\n",
      "(1920, 2560, 3)\n",
      "1920\n",
      "2560\n",
      "A-D-64QFP-35B-D.png\n",
      "(1920, 2465, 3)\n",
      "1920\n",
      "2465\n",
      "A-D-64QFP-35F-D.png\n",
      "(1920, 2560, 3)\n",
      "1920\n",
      "2560\n",
      "A-J-28SOP-01B-SM.png\n",
      "(1920, 2560, 3)\n",
      "1920\n",
      "2560\n",
      "A-J-28SOP-01F-SM.png\n",
      "(1920, 2560, 3)\n",
      "1920\n",
      "2560\n",
      "A-J-28SOP-02B-SM.png\n",
      "(1920, 2560, 3)\n",
      "1920\n",
      "2560\n",
      "A-J-28SOP-02F-SM.png\n",
      "(1920, 2560, 3)\n",
      "1920\n",
      "2560\n",
      "A-J-28SOP-03B-SM.png\n",
      "(1920, 2560, 3)\n",
      "1920\n",
      "2560\n",
      "A-J-28SOP-03F-SM.png\n",
      "(1920, 2560, 3)\n",
      "1920\n",
      "2560\n",
      "A-O-08DIP-21B-D.png\n",
      "(1920, 2560, 3)\n",
      "1920\n",
      "2560\n",
      "A-O-08DIP-21F-D.png\n",
      "(1920, 2560, 3)\n",
      "1920\n",
      "2560\n",
      "A-O-08DIP-22B-D.png\n",
      "(1920, 2560, 3)\n",
      "1920\n",
      "2560\n",
      "A-O-08DIP-22F-D.png\n",
      "(1920, 2560, 3)\n",
      "1920\n",
      "2560\n",
      "A-O-08DIP-23B-D.png\n",
      "(1920, 2560, 3)\n",
      "1920\n",
      "2560\n",
      "A-O-08DIP-23F-D.png\n",
      "(1920, 2560, 3)\n",
      "1920\n",
      "2560\n",
      "C-E-16SOIC-08B-D.PNG\n",
      "(1920, 2560, 3)\n",
      "1920\n",
      "2560\n",
      "C-E-16SOIC-08F-D.PNG\n",
      "(1920, 2560, 3)\n",
      "1920\n",
      "2560\n",
      "C-E-16SOIC-09B-D.PNG\n",
      "(1920, 2560, 3)\n",
      "1920\n",
      "2560\n",
      "C-E-16SOIC-09F-D.PNG\n",
      "(1920, 2560, 3)\n",
      "1920\n",
      "2560\n",
      "C-E-16SOIC-10B-D.PNG\n",
      "(1920, 2560, 3)\n",
      "1920\n",
      "2560\n",
      "C-E-16SOIC-10F-D.PNG\n",
      "(1920, 2560, 3)\n",
      "1920\n",
      "2560\n",
      "C-O-08DIP-36B-D.png\n",
      "(1920, 2560, 3)\n",
      "1920\n",
      "2560\n",
      "C-O-08DIP-36F-D.png\n",
      "(1920, 2560, 3)\n",
      "1920\n",
      "2560\n",
      "C-O-08DIP-37B-D.png\n",
      "(1920, 2560, 3)\n",
      "1920\n",
      "2560\n",
      "C-O-08DIP-37F-D.png\n",
      "(1920, 2560, 3)\n",
      "1920\n",
      "2560\n",
      "C-O-08DIP-38B-D.png\n",
      "(1920, 2560, 3)\n",
      "1920\n",
      "2560\n",
      "C-O-08DIP-38F-D.png\n",
      "(1920, 2560, 3)\n",
      "1920\n",
      "2560\n",
      "C-O-08DIP-46B-D.png\n",
      "(1920, 2560, 3)\n",
      "1920\n",
      "2560\n",
      "C-O-08DIP-46F-D.png\n",
      "(1920, 2560, 3)\n",
      "1920\n",
      "2560\n",
      "C-O-08DIP-47B-D.png\n",
      "(1920, 2560, 3)\n",
      "1920\n",
      "2560\n",
      "C-O-08DIP-47F-D.png\n",
      "(1920, 2560, 3)\n",
      "1920\n",
      "2560\n",
      "C-O-08DIP-48B-D.png\n",
      "(1920, 2560, 3)\n",
      "1920\n",
      "2560\n",
      "C-O-08DIP-48F-D.png\n",
      "(1920, 2560, 3)\n",
      "1920\n",
      "2560\n",
      "C-T-08DIP-11B-SM.png\n",
      "(1920, 2560, 3)\n",
      "1920\n",
      "2560\n",
      "C-T-08DIP-11F-SM.png\n",
      "(1920, 2560, 3)\n",
      "1920\n",
      "2560\n",
      "C-T-28SOP-04B-SM.png\n",
      "(1920, 2560, 3)\n",
      "1920\n",
      "2560\n",
      "C-T-28SOP-04F-SM.png\n",
      "(1920, 2560, 3)\n",
      "1920\n",
      "2560\n",
      "C-T-28SOP-05B-SM.png\n",
      "(1920, 2560, 3)\n",
      "1920\n",
      "2560\n",
      "C-T-28SOP-05F-SM.png\n",
      "(1920, 2560, 3)\n",
      "1920\n",
      "2560\n",
      "C-T-48QFP-19B-SM.png\n",
      "(1920, 2560, 3)\n",
      "1920\n",
      "2560\n",
      "C-T-48QFP-19F-SM.png\n",
      "(1920, 2560, 3)\n",
      "1920\n",
      "2560\n",
      "C-T-48QFP-20B-SM.png\n",
      "(1920, 2560, 3)\n",
      "1920\n",
      "2560\n",
      "C-T-48QFP-20F-SM.png\n",
      "(1920, 2560, 3)\n",
      "1920\n",
      "2560\n",
      "C-T-48QFP-39B-D.png\n",
      "(1920, 2560, 3)\n",
      "1920\n",
      "2560\n",
      "C-T-48QFP-39F-D.png\n",
      "(1920, 2560, 3)\n",
      "1920\n",
      "2560\n",
      "C-T-64QFP-12B-SM.png\n",
      "(1920, 2560, 3)\n",
      "1920\n",
      "2560\n",
      "C-T-64QFP-12F-SM.png\n",
      "(1920, 2560, 3)\n",
      "1920\n",
      "2560\n",
      "C-T-64QFP-13B-SM.png\n",
      "(1920, 2560, 3)\n",
      "1920\n",
      "2560\n",
      "C-T-64QFP-13F-SM.png\n",
      "(1920, 2560, 3)\n",
      "1920\n",
      "2560\n",
      "C-T-64QFP-40B-D.png\n",
      "(1920, 2560, 3)\n",
      "1920\n",
      "2560\n",
      "C-T-64QFP-40F-D.png\n",
      "(1920, 2560, 3)\n",
      "1920\n",
      "2560\n",
      "C-T-64QFP-41B-D.png\n",
      "(1920, 2560, 3)\n",
      "1920\n",
      "2560\n",
      "C-T-64QFP-41F-D.png\n",
      "(1920, 2560, 3)\n",
      "1920\n",
      "2560\n",
      "C-T-64QFP-42B-D.png\n",
      "(1920, 2560, 3)\n",
      "1920\n",
      "2560\n",
      "C-T-64QFP-42F-D.png\n",
      "(1920, 2560, 3)\n",
      "1920\n",
      "2560\n",
      "C-T-64QFP-43B-D.png\n",
      "(1920, 2560, 3)\n",
      "1920\n",
      "2560\n",
      "C-T-64QFP-43F-D.png\n",
      "(1920, 2560, 3)\n",
      "1920\n",
      "2560\n",
      "C-T-64QFP-44B-D.png\n",
      "(1920, 2560, 3)\n",
      "1920\n",
      "2560\n",
      "C-T-64QFP-44F-D.png\n",
      "(1920, 2560, 3)\n",
      "1920\n",
      "2560\n",
      "C-T-64QFP-45B-D.png\n",
      "(1920, 2560, 3)\n",
      "1920\n",
      "2560\n",
      "C-T-64QFP-45F-D.png\n",
      "(1920, 2560, 3)\n",
      "1920\n",
      "2560\n",
      "C-T-64QFP-49B-D.png\n",
      "(1920, 2560, 3)\n",
      "1920\n",
      "2560\n",
      "C-T-64QFP-49F-D.png\n",
      "(1920, 2560, 3)\n",
      "1920\n",
      "2560\n",
      "C-T-64QFP-50B-D.png\n",
      "(1920, 2560, 3)\n",
      "1920\n",
      "2560\n",
      "C-T-64QFP-50F-D.png\n",
      "(1920, 2560, 3)\n",
      "1920\n",
      "2560\n"
     ]
    }
   ],
   "source": [
    "#Capture images and labels into arrays.\n",
    "#Start by creating empty lists.\n",
    "#SIZE = 128\n",
    "train_images=[]\n",
    "train_images_topleft = []\n",
    "train_images_topRight = []\n",
    "train_images_bottomLeft = []\n",
    "train_images_bottomRight = []\n",
    "train_labels = [] \n",
    "final_images=[]\n",
    "#for directory_path in glob.glob(\"cell_images/train/*\"):\n",
    "for directory_path in glob.glob(r\"C:/Users/fsshi/jupyter notebooks/train2/*\"):\n",
    "    label = directory_path.split(\"\\\\\")[-1]\n",
    "    #print(label)\n",
    "    for img_path in glob.glob(os.path.join(directory_path, \"*.png\")):\n",
    "        print(os.path.basename(img_path))\n",
    "        imm= cv2.imread(img_path, 1) #Reading color images\n",
    "        im = cv2.filter2D(src=imm, ddepth=-1, kernel=kernel)\n",
    "        print(im.shape)\n",
    "        h,w= im.shape[:2]\n",
    "        print(h)\n",
    "        print(w)\n",
    "        centerX,centerY=(w//2), (h//2)\n",
    "    \n",
    "        topLeft = im[0:centerY,0:centerX]\n",
    "        topRight = im[0:centerY,centerX:w]\n",
    "        bottomLeft = im[centerY:h,0:centerX]\n",
    "        bottomRight = im[centerY:h,centerX:w]\n",
    "        \n",
    "        train_images_topleft.append(topLeft)\n",
    "        train_images_topRight.append(topRight)\n",
    "        train_images_bottomLeft.append(bottomLeft)\n",
    "        train_images_bottomRight.append(bottomRight)\n",
    "        final_images=train_images_topleft+train_images_topRight+train_images_bottomLeft+train_images_bottomRight\n",
    "     \n",
    "        #img = cv2.resize(img, (SIZE, SIZE)) #Resize images\n",
    "        train_images.append(im)\n",
    "        train_labels.append(label)\n",
    "        \n",
    "#train_images = np.array(train_images)\n",
    "#train_labels = np.array(train_labels)"
   ]
  },
  {
   "cell_type": "code",
   "execution_count": null,
   "id": "a2079cf3",
   "metadata": {},
   "outputs": [],
   "source": []
  },
  {
   "cell_type": "code",
   "execution_count": 201,
   "id": "846dc4b6",
   "metadata": {},
   "outputs": [
    {
     "data": {
      "image/png": "[encoded data removed]",
      "text/plain": [
       "<Figure size 432x288 with 1 Axes>"
      ]
     },
     "metadata": {
      "needs_background": "light"
     },
     "output_type": "display_data"
    }
   ],
   "source": [
    "train_images[0].shape\n",
    "import matplotlib.pyplot as plt\n",
    "imgplot = plt.imshow(train_images[10])\n",
    "plt.show()"
   ]
  },
  {
   "cell_type": "code",
   "execution_count": 202,
   "id": "46093548",
   "metadata": {},
   "outputs": [
    {
     "name": "stderr",
     "output_type": "stream",
     "text": [
      "C:\\Users\\fsshi\\AppData\\Local\\Temp/ipykernel_5448/2252969160.py:4: TqdmDeprecationWarning: This function will be removed in tqdm==5.0.0\n",
      "Please use `tqdm.notebook.tqdm` instead of `tqdm.tqdm_notebook`\n",
      "  for tr in tqdm.tqdm_notebook(range(len(train_images_bottomRight))):\n"
     ]
    },
    {
     "data": {
      "application/vnd.jupyter.widget-view+json": {
       "model_id": "7c33462341164b498bc5e17e5d2cde48",
       "version_major": 2,
       "version_minor": 0
      },
      "text/plain": [
       "  0%|          | 0/120 [00:00<?, ?it/s]"
      ]
     },
     "metadata": {},
     "output_type": "display_data"
    },
    {
     "name": "stderr",
     "output_type": "stream",
     "text": [
      "C:\\Users\\fsshi\\AppData\\Local\\Temp/ipykernel_5448/2252969160.py:17: RuntimeWarning: divide by zero encountered in log2\n",
      "  lbp_entropy = -np.nansum(np.multiply(lbp_prob,np.log2(lbp_prob)))\n",
      "C:\\Users\\fsshi\\AppData\\Local\\Temp/ipykernel_5448/2252969160.py:17: RuntimeWarning: invalid value encountered in multiply\n",
      "  lbp_entropy = -np.nansum(np.multiply(lbp_prob,np.log2(lbp_prob)))\n",
      "C:\\Users\\fsshi\\AppData\\Local\\Temp/ipykernel_5448/2252969160.py:33: RuntimeWarning: divide by zero encountered in log2\n",
      "  gabor_entropy = -np.nansum(np.multiply(gabor_prob,np.log2(gabor_prob)))\n",
      "C:\\Users\\fsshi\\AppData\\Local\\Temp/ipykernel_5448/2252969160.py:33: RuntimeWarning: invalid value encountered in multiply\n",
      "  gabor_entropy = -np.nansum(np.multiply(gabor_prob,np.log2(gabor_prob)))\n"
     ]
    }
   ],
   "source": [
    "import pandas as pd\n",
    "featLength = 2+5+2\n",
    "trainFeats = np.zeros((len(train_images_bottomRight),featLength)) #Feature vector of each image is of size 1x1030\n",
    "for tr in tqdm.tqdm_notebook(range(len(train_images_bottomRight))):\n",
    "\n",
    "    img = train_images_bottomRight[tr][0] #One image at a time\n",
    "    #print(img.shape)\n",
    "    img = Image.fromarray(img)\n",
    "    img_gray = img.convert('L') #Converting to grayscale\n",
    "    img_arr = np.array(img.getdata()).reshape(img.size[1],img.size[0]) #Converting to array\n",
    "    # LBP\n",
    "    feat_lbp = local_binary_pattern(img_arr,5,2,'uniform').reshape(img.size[0]*img.size[1])\n",
    "    lbp_hist,_ = np.histogram(feat_lbp,8)\n",
    "    lbp_hist = np.array(lbp_hist,dtype=float)\n",
    "    lbp_prob = np.divide(lbp_hist,np.sum(lbp_hist))\n",
    "    lbp_energy = np.nansum(lbp_prob**2)\n",
    "    lbp_entropy = -np.nansum(np.multiply(lbp_prob,np.log2(lbp_prob)))   \n",
    "    # GLCM\n",
    "    gCoMat = greycomatrix(img_arr, [2], [0],256,symmetric=True, normed=True)\n",
    "    contrast = greycoprops(gCoMat, prop='contrast')\n",
    "    dissimilarity = greycoprops(gCoMat, prop='dissimilarity')\n",
    "    homogeneity = greycoprops(gCoMat, prop='homogeneity')    \n",
    "    energy = greycoprops(gCoMat, prop='energy')\n",
    "    correlation = greycoprops(gCoMat, prop='correlation')    \n",
    "    feat_glcm = np.array([contrast[0][0],dissimilarity[0][0],homogeneity[0][0],energy[0][0],correlation[0][0]])\n",
    "    # Gabor filter\n",
    "    gaborFilt_real,gaborFilt_imag = gabor(img_arr,frequency=0.6)\n",
    "    gaborFilt = (gaborFilt_real**2+gaborFilt_imag**2)//2\n",
    "    gabor_hist,_ = np.histogram(gaborFilt,8)\n",
    "    gabor_hist = np.array(gabor_hist,dtype=float)\n",
    "    gabor_prob = np.divide(gabor_hist,np.sum(gabor_hist))\n",
    "    gabor_energy = np.nansum(gabor_prob**2)\n",
    "    gabor_entropy = -np.nansum(np.multiply(gabor_prob,np.log2(gabor_prob)))\n",
    "    # Concatenating features(2+5+2)    \n",
    "    concat_feat = np.concatenate(([lbp_energy,lbp_entropy],feat_glcm,[gabor_energy,gabor_entropy]),axis=0)\n",
    "    trainFeats[tr,:] = concat_feat #Stacking features vectors for each image\n",
    "    df4 = pd.DataFrame({'lbp_energy': trainFeats[:,0],\n",
    "                       'lbp_entropy': trainFeats[:,1],\n",
    "                       #'contrast': trainFeats[:,2],\n",
    "                       'dissimilarity': trainFeats[:,3],\n",
    "                       'homogeneity': trainFeats[:,4],\n",
    "                       'energy': trainFeats[:,5],\n",
    "                       'correlation': trainFeats[:,6],\n",
    "                       'gabor_energy': trainFeats[:,7],\n",
    "                       'gabor_entropy': trainFeats[:,8]})\n",
    "    \n",
    "    # Class label\n",
    "    #label.append(trainDset[tr][1])\n",
    "#trainLabel = np.array(label) #Conversion from list to array"
   ]
  },
  {
   "cell_type": "code",
   "execution_count": null,
   "id": "4c11131c",
   "metadata": {},
   "outputs": [],
   "source": []
  },
  {
   "cell_type": "code",
   "execution_count": 203,
   "id": "ea1f10b1",
   "metadata": {},
   "outputs": [
    {
     "data": {
      "text/html": [
       "<div>\n",
       "<style scoped>\n",
       "    .dataframe tbody tr th:only-of-type {\n",
       "        vertical-align: middle;\n",
       "    }\n",
       "\n",
       "    .dataframe tbody tr th {\n",
       "        vertical-align: top;\n",
       "    }\n",
       "\n",
       "    .dataframe thead th {\n",
       "        text-align: right;\n",
       "    }\n",
       "</style>\n",
       "<table border=\"1\" class=\"dataframe\">\n",
       "  <thead>\n",
       "    <tr style=\"text-align: right;\">\n",
       "      <th></th>\n",
       "      <th>lbp_energy</th>\n",
       "      <th>lbp_entropy</th>\n",
       "      <th>dissimilarity</th>\n",
       "      <th>homogeneity</th>\n",
       "      <th>energy</th>\n",
       "      <th>correlation</th>\n",
       "      <th>gabor_energy</th>\n",
       "      <th>gabor_entropy</th>\n",
       "    </tr>\n",
       "  </thead>\n",
       "  <tbody>\n",
       "    <tr>\n",
       "      <th>0</th>\n",
       "      <td>0.241442</td>\n",
       "      <td>2.208509</td>\n",
       "      <td>13.638281</td>\n",
       "      <td>0.126870</td>\n",
       "      <td>0.070312</td>\n",
       "      <td>0.969883</td>\n",
       "      <td>0.448629</td>\n",
       "      <td>1.725035</td>\n",
       "    </tr>\n",
       "    <tr>\n",
       "      <th>1</th>\n",
       "      <td>0.248150</td>\n",
       "      <td>2.170305</td>\n",
       "      <td>13.502344</td>\n",
       "      <td>0.090252</td>\n",
       "      <td>0.024532</td>\n",
       "      <td>0.964250</td>\n",
       "      <td>0.323332</td>\n",
       "      <td>2.150302</td>\n",
       "    </tr>\n",
       "    <tr>\n",
       "      <th>2</th>\n",
       "      <td>0.226332</td>\n",
       "      <td>2.270439</td>\n",
       "      <td>12.981250</td>\n",
       "      <td>0.185180</td>\n",
       "      <td>0.127001</td>\n",
       "      <td>0.974626</td>\n",
       "      <td>0.358739</td>\n",
       "      <td>1.969591</td>\n",
       "    </tr>\n",
       "    <tr>\n",
       "      <th>3</th>\n",
       "      <td>0.251174</td>\n",
       "      <td>2.163145</td>\n",
       "      <td>14.022656</td>\n",
       "      <td>0.071792</td>\n",
       "      <td>0.024269</td>\n",
       "      <td>0.952578</td>\n",
       "      <td>0.375709</td>\n",
       "      <td>1.982665</td>\n",
       "    </tr>\n",
       "    <tr>\n",
       "      <th>4</th>\n",
       "      <td>0.228128</td>\n",
       "      <td>2.264891</td>\n",
       "      <td>12.669531</td>\n",
       "      <td>0.178885</td>\n",
       "      <td>0.106286</td>\n",
       "      <td>0.975467</td>\n",
       "      <td>0.365525</td>\n",
       "      <td>2.006555</td>\n",
       "    </tr>\n",
       "  </tbody>\n",
       "</table>\n",
       "</div>"
      ],
      "text/plain": [
       "   lbp_energy  lbp_entropy  dissimilarity  homogeneity    energy  correlation  \\\n",
       "0    0.241442     2.208509      13.638281     0.126870  0.070312     0.969883   \n",
       "1    0.248150     2.170305      13.502344     0.090252  0.024532     0.964250   \n",
       "2    0.226332     2.270439      12.981250     0.185180  0.127001     0.974626   \n",
       "3    0.251174     2.163145      14.022656     0.071792  0.024269     0.952578   \n",
       "4    0.228128     2.264891      12.669531     0.178885  0.106286     0.975467   \n",
       "\n",
       "   gabor_energy  gabor_entropy  \n",
       "0      0.448629       1.725035  \n",
       "1      0.323332       2.150302  \n",
       "2      0.358739       1.969591  \n",
       "3      0.375709       1.982665  \n",
       "4      0.365525       2.006555  "
      ]
     },
     "execution_count": 203,
     "metadata": {},
     "output_type": "execute_result"
    }
   ],
   "source": [
    "df4.head()"
   ]
  },
  {
   "cell_type": "code",
   "execution_count": 204,
   "id": "c2099dc1",
   "metadata": {},
   "outputs": [],
   "source": [
    "df4 = (df4-df4.min())/(df4.max()-df4.min())"
   ]
  },
  {
   "cell_type": "code",
   "execution_count": 205,
   "id": "94e31b2c",
   "metadata": {},
   "outputs": [
    {
     "data": {
      "text/plain": [
       "numpy.ndarray"
      ]
     },
     "execution_count": 205,
     "metadata": {},
     "output_type": "execute_result"
    }
   ],
   "source": [
    "type(trainFeats)"
   ]
  },
  {
   "cell_type": "code",
   "execution_count": 206,
   "id": "4a4f4285",
   "metadata": {},
   "outputs": [
    {
     "data": {
      "text/html": [
       "<div>\n",
       "<style scoped>\n",
       "    .dataframe tbody tr th:only-of-type {\n",
       "        vertical-align: middle;\n",
       "    }\n",
       "\n",
       "    .dataframe tbody tr th {\n",
       "        vertical-align: top;\n",
       "    }\n",
       "\n",
       "    .dataframe thead th {\n",
       "        text-align: right;\n",
       "    }\n",
       "</style>\n",
       "<table border=\"1\" class=\"dataframe\">\n",
       "  <thead>\n",
       "    <tr style=\"text-align: right;\">\n",
       "      <th></th>\n",
       "      <th>lbp_energy</th>\n",
       "      <th>lbp_entropy</th>\n",
       "      <th>dissimilarity</th>\n",
       "      <th>homogeneity</th>\n",
       "      <th>energy</th>\n",
       "      <th>correlation</th>\n",
       "      <th>gabor_energy</th>\n",
       "      <th>gabor_entropy</th>\n",
       "    </tr>\n",
       "  </thead>\n",
       "  <tbody>\n",
       "    <tr>\n",
       "      <th>0</th>\n",
       "      <td>0.225405</td>\n",
       "      <td>0.697837</td>\n",
       "      <td>0.178689</td>\n",
       "      <td>0.125662</td>\n",
       "      <td>0.047636</td>\n",
       "      <td>0.972793</td>\n",
       "      <td>0.301194</td>\n",
       "      <td>0.703245</td>\n",
       "    </tr>\n",
       "    <tr>\n",
       "      <th>1</th>\n",
       "      <td>0.249937</td>\n",
       "      <td>0.666079</td>\n",
       "      <td>0.176908</td>\n",
       "      <td>0.088993</td>\n",
       "      <td>0.000660</td>\n",
       "      <td>0.967704</td>\n",
       "      <td>0.136518</td>\n",
       "      <td>0.887767</td>\n",
       "    </tr>\n",
       "    <tr>\n",
       "      <th>2</th>\n",
       "      <td>0.170147</td>\n",
       "      <td>0.749319</td>\n",
       "      <td>0.170080</td>\n",
       "      <td>0.184053</td>\n",
       "      <td>0.105804</td>\n",
       "      <td>0.977077</td>\n",
       "      <td>0.183053</td>\n",
       "      <td>0.809357</td>\n",
       "    </tr>\n",
       "    <tr>\n",
       "      <th>3</th>\n",
       "      <td>0.260994</td>\n",
       "      <td>0.660127</td>\n",
       "      <td>0.183725</td>\n",
       "      <td>0.070508</td>\n",
       "      <td>0.000390</td>\n",
       "      <td>0.957159</td>\n",
       "      <td>0.205357</td>\n",
       "      <td>0.815030</td>\n",
       "    </tr>\n",
       "    <tr>\n",
       "      <th>4</th>\n",
       "      <td>0.176717</td>\n",
       "      <td>0.744706</td>\n",
       "      <td>0.165996</td>\n",
       "      <td>0.177749</td>\n",
       "      <td>0.084549</td>\n",
       "      <td>0.977837</td>\n",
       "      <td>0.191972</td>\n",
       "      <td>0.825396</td>\n",
       "    </tr>\n",
       "  </tbody>\n",
       "</table>\n",
       "</div>"
      ],
      "text/plain": [
       "   lbp_energy  lbp_entropy  dissimilarity  homogeneity    energy  correlation  \\\n",
       "0    0.225405     0.697837       0.178689     0.125662  0.047636     0.972793   \n",
       "1    0.249937     0.666079       0.176908     0.088993  0.000660     0.967704   \n",
       "2    0.170147     0.749319       0.170080     0.184053  0.105804     0.977077   \n",
       "3    0.260994     0.660127       0.183725     0.070508  0.000390     0.957159   \n",
       "4    0.176717     0.744706       0.165996     0.177749  0.084549     0.977837   \n",
       "\n",
       "   gabor_energy  gabor_entropy  \n",
       "0      0.301194       0.703245  \n",
       "1      0.136518       0.887767  \n",
       "2      0.183053       0.809357  \n",
       "3      0.205357       0.815030  \n",
       "4      0.191972       0.825396  "
      ]
     },
     "execution_count": 206,
     "metadata": {},
     "output_type": "execute_result"
    }
   ],
   "source": [
    "df4.head()"
   ]
  },
  {
   "cell_type": "code",
   "execution_count": 207,
   "id": "c417274b",
   "metadata": {},
   "outputs": [
    {
     "data": {
      "text/plain": [
       "(120, 9)"
      ]
     },
     "execution_count": 207,
     "metadata": {},
     "output_type": "execute_result"
    }
   ],
   "source": [
    "trainFeats.shape"
   ]
  },
  {
   "cell_type": "code",
   "execution_count": 208,
   "id": "75fb58d8",
   "metadata": {},
   "outputs": [],
   "source": [
    "train_labels = np.array(train_labels)"
   ]
  },
  {
   "cell_type": "code",
   "execution_count": 209,
   "id": "96a1cdea",
   "metadata": {},
   "outputs": [
    {
     "data": {
      "text/plain": [
       "numpy.ndarray"
      ]
     },
     "execution_count": 209,
     "metadata": {},
     "output_type": "execute_result"
    }
   ],
   "source": [
    "type(train_labels)"
   ]
  },
  {
   "cell_type": "code",
   "execution_count": 210,
   "id": "6d333d2f",
   "metadata": {},
   "outputs": [
    {
     "data": {
      "text/plain": [
       "array(['0', '0', '0', '0', '0', '0', '0', '0', '0', '0', '0', '0', '0',\n",
       "       '0', '0', '0', '0', '0', '0', '0', '0', '0', '0', '0', '0', '0',\n",
       "       '0', '0', '0', '0', '0', '0', '0', '0', '0', '0', '0', '0', '0',\n",
       "       '0', '0', '0', '0', '0', '0', '0', '0', '0', '0', '0', '0', '0',\n",
       "       '0', '0', '0', '0', '0', '0', '0', '0', '0', '0', '0', '0', '0',\n",
       "       '0', '0', '0', '0', '0', '1', '1', '1', '1', '1', '1', '1', '1',\n",
       "       '1', '1', '1', '1', '1', '1', '1', '1', '1', '1', '1', '1', '1',\n",
       "       '1', '1', '1', '1', '1', '1', '1', '1', '1', '1', '1', '1', '1',\n",
       "       '1', '1', '1', '1', '1', '1', '1', '1', '1', '1', '1', '1', '1',\n",
       "       '1', '1', '1'], dtype='<U1')"
      ]
     },
     "execution_count": 210,
     "metadata": {},
     "output_type": "execute_result"
    }
   ],
   "source": [
    "train_labels"
   ]
  },
  {
   "cell_type": "code",
   "execution_count": 211,
   "id": "4a648c29",
   "metadata": {},
   "outputs": [],
   "source": [
    "from sklearn.svm import SVC"
   ]
  },
  {
   "cell_type": "code",
   "execution_count": 212,
   "id": "9a2c7348",
   "metadata": {},
   "outputs": [],
   "source": [
    "from sklearn.model_selection import train_test_split"
   ]
  },
  {
   "cell_type": "code",
   "execution_count": 235,
   "id": "a4147b70",
   "metadata": {},
   "outputs": [],
   "source": [
    "X_train, X_test, y_train, y_test = train_test_split(df4, train_labels, test_size=0.2, random_state=42,shuffle=True )"
   ]
  },
  {
   "cell_type": "code",
   "execution_count": 236,
   "id": "83132de3",
   "metadata": {},
   "outputs": [
    {
     "data": {
      "text/plain": [
       "SVC(C=1)"
      ]
     },
     "execution_count": 236,
     "metadata": {},
     "output_type": "execute_result"
    }
   ],
   "source": [
    "SVM_model = SVC(C=1)\n",
    "SVM_model.fit(X_train, y_train)"
   ]
  },
  {
   "cell_type": "code",
   "execution_count": 237,
   "id": "9a51f334",
   "metadata": {},
   "outputs": [],
   "source": [
    "test_prediction = SVM_model.predict(X_test)"
   ]
  },
  {
   "cell_type": "code",
   "execution_count": 238,
   "id": "8ae215ea",
   "metadata": {},
   "outputs": [
    {
     "data": {
      "text/plain": [
       "array(['0', '0', '0', '0', '0', '0', '0', '0', '0', '0', '0', '0', '0',\n",
       "       '0', '0', '0', '1', '0', '0', '1', '0', '0', '0', '0'], dtype='<U1')"
      ]
     },
     "execution_count": 238,
     "metadata": {},
     "output_type": "execute_result"
    }
   ],
   "source": [
    "test_prediction"
   ]
  },
  {
   "cell_type": "code",
   "execution_count": 239,
   "id": "f6143c16",
   "metadata": {},
   "outputs": [
    {
     "data": {
      "text/plain": [
       "array(['0', '0', '0', '0', '0', '0', '1', '0', '0', '1', '0', '0', '0',\n",
       "       '0', '1', '1', '1', '0', '1', '1', '0', '0', '0', '1'], dtype='<U1')"
      ]
     },
     "execution_count": 239,
     "metadata": {},
     "output_type": "execute_result"
    }
   ],
   "source": [
    "y_test"
   ]
  },
  {
   "cell_type": "code",
   "execution_count": 240,
   "id": "2b716e25",
   "metadata": {
    "scrolled": true
   },
   "outputs": [
    {
     "name": "stdout",
     "output_type": "stream",
     "text": [
      "Accuracy =  0.75\n",
      "              precision    recall  f1-score   support\n",
      "\n",
      "           0       0.73      1.00      0.84        16\n",
      "           1       1.00      0.25      0.40         8\n",
      "\n",
      "    accuracy                           0.75        24\n",
      "   macro avg       0.86      0.62      0.62        24\n",
      "weighted avg       0.82      0.75      0.69        24\n",
      "\n"
     ]
    }
   ],
   "source": [
    "from sklearn import metrics\n",
    "from sklearn.metrics import classification_report\n",
    "print (\"Accuracy = \", metrics.accuracy_score(y_test, test_prediction))\n",
    "print(classification_report(y_test, test_prediction))\n",
    "#Print confusion matrix\n",
    "from sklearn.metrics import confusion_matrix\n",
    "cm = confusion_matrix(y_test, test_prediction)"
   ]
  },
  {
   "cell_type": "code",
   "execution_count": 241,
   "id": "9c74d9b6",
   "metadata": {},
   "outputs": [],
   "source": [
    "from sklearn.naive_bayes import GaussianNB\n",
    "\n",
    "# Build a Gaussian Classifier\n",
    "model = GaussianNB()\n",
    "\n"
   ]
  },
  {
   "cell_type": "code",
   "execution_count": 242,
   "id": "69ff23fd",
   "metadata": {},
   "outputs": [
    {
     "name": "stdout",
     "output_type": "stream",
     "text": [
      "Cross Validation Scores:  [0.7        0.68421053 0.63157895 0.52631579 0.63157895]\n",
      "Average CV Score:  0.6347368421052633\n",
      "Number of CV Scores used in Average:  5\n"
     ]
    }
   ],
   "source": [
    "from sklearn.model_selection import KFold, cross_val_score\n",
    "k_folds = KFold(n_splits = 5)\n",
    "\n",
    "scores = cross_val_score(model, X_train, y_train, cv = k_folds)\n",
    "\n",
    "print(\"Cross Validation Scores: \", scores)\n",
    "print(\"Average CV Score: \", scores.mean())\n",
    "print(\"Number of CV Scores used in Average: \", len(scores))"
   ]
  },
  {
   "cell_type": "code",
   "execution_count": 243,
   "id": "68dac317",
   "metadata": {},
   "outputs": [
    {
     "name": "stdout",
     "output_type": "stream",
     "text": [
      "Predicted Probabilities:  [[8.10259389e-01 1.89740611e-01]\n",
      " [8.71021138e-01 1.28978862e-01]\n",
      " [9.95985176e-01 4.01482416e-03]\n",
      " [8.72050118e-01 1.27949882e-01]\n",
      " [9.48727739e-01 5.12722611e-02]\n",
      " [8.84309889e-01 1.15690111e-01]\n",
      " [9.09867237e-01 9.01327630e-02]\n",
      " [9.88662881e-01 1.13371192e-02]\n",
      " [8.48252987e-01 1.51747013e-01]\n",
      " [9.35849156e-01 6.41508443e-02]\n",
      " [9.80999390e-01 1.90006104e-02]\n",
      " [8.90698961e-01 1.09301039e-01]\n",
      " [9.97223496e-01 2.77650438e-03]\n",
      " [8.73445611e-01 1.26554389e-01]\n",
      " [9.95952651e-01 4.04734859e-03]\n",
      " [2.61626837e-01 7.38373163e-01]\n",
      " [5.37485455e-07 9.99999463e-01]\n",
      " [9.95099258e-01 4.90074201e-03]\n",
      " [9.87286585e-01 1.27134150e-02]\n",
      " [8.55888827e-03 9.91441112e-01]\n",
      " [8.92607562e-01 1.07392438e-01]\n",
      " [8.81846235e-01 1.18153765e-01]\n",
      " [9.74396582e-01 2.56034177e-02]\n",
      " [9.11507496e-01 8.84925036e-02]]\n",
      "Actual Value: ['0' '0' '0' '0' '0' '0' '1' '0' '0' '1' '0' '0' '0' '0' '1' '1' '1' '0'\n",
      " '1' '1' '0' '0' '0' '1']\n",
      "Predicted Value: ['0' '0' '0' '0' '0' '0' '0' '0' '0' '0' '0' '0' '0' '0' '0' '1' '1' '0'\n",
      " '0' '1' '0' '0' '0' '0']\n"
     ]
    }
   ],
   "source": [
    "# Model training\n",
    "model.fit(X_train, y_train)\n",
    "yhat_prob = model.predict_proba(X_test)\n",
    "print('Predicted Probabilities: ', yhat_prob)\n",
    "# Predict Output\n",
    "predicted = model.predict(X_test)\n",
    "\n",
    "print(\"Actual Value:\", y_test)\n",
    "print(\"Predicted Value:\", predicted)"
   ]
  },
  {
   "cell_type": "code",
   "execution_count": 244,
   "id": "3d3a350e",
   "metadata": {},
   "outputs": [
    {
     "name": "stdout",
     "output_type": "stream",
     "text": [
      "Accuracy: 0.7916666666666666\n",
      "F1 Score: 0.8249385749385749\n",
      "              precision    recall  f1-score   support\n",
      "\n",
      "           0       1.00      0.76      0.86        21\n",
      "           1       0.38      1.00      0.55         3\n",
      "\n",
      "    accuracy                           0.79        24\n",
      "   macro avg       0.69      0.88      0.71        24\n",
      "weighted avg       0.92      0.79      0.82        24\n",
      "\n"
     ]
    }
   ],
   "source": [
    "from sklearn.metrics import (\n",
    "    accuracy_score,\n",
    "    confusion_matrix,\n",
    "    ConfusionMatrixDisplay,\n",
    "    f1_score,\n",
    ")\n",
    "\n",
    "y_pred = model.predict(X_test)\n",
    "accuray = accuracy_score(y_pred, y_test)\n",
    "f1 = f1_score(y_pred, y_test, average=\"weighted\")\n",
    "\n",
    "print(\"Accuracy:\", accuray)\n",
    "print(\"F1 Score:\", f1)\n",
    "print(classification_report(y_pred, y_test))"
   ]
  },
  {
   "cell_type": "code",
   "execution_count": 286,
   "id": "4d8a8368",
   "metadata": {},
   "outputs": [],
   "source": [
    "import pickle\n",
    "pickle.dump(model, open('nv_model.pkl', 'wb'))"
   ]
  },
  {
   "cell_type": "code",
   "execution_count": 283,
   "id": "df7b1612",
   "metadata": {},
   "outputs": [
    {
     "data": {
      "image/png": "[encoded data removed]",
      "text/plain": [
       "<Figure size 432x288 with 2 Axes>"
      ]
     },
     "metadata": {
      "needs_background": "light"
     },
     "output_type": "display_data"
    }
   ],
   "source": [
    "confusion_matrix = metrics.confusion_matrix(y_pred, y_test)\n",
    "cm_display = metrics.ConfusionMatrixDisplay(confusion_matrix = confusion_matrix, display_labels = ['Authentic', 'Counterfeit'])\n",
    "import matplotlib.pyplot as plt\n",
    "cm_display.plot()\n",
    "plt.show()"
   ]
  },
  {
   "cell_type": "code",
   "execution_count": 273,
   "id": "4d42426e",
   "metadata": {},
   "outputs": [
    {
     "name": "stdout",
     "output_type": "stream",
     "text": [
      "A-O-08DIP-21B-D.png\n",
      "(1920, 2560, 3)\n",
      "1920\n",
      "2560\n",
      "A-O-08DIP-21F-D.png\n",
      "(1920, 2560, 3)\n",
      "1920\n",
      "2560\n",
      "C-T-48QFP-39F-D.png\n",
      "(1920, 2560, 3)\n",
      "1920\n",
      "2560\n",
      "C-T-64QFP-40B-D.png\n",
      "(1920, 2560, 3)\n",
      "1920\n",
      "2560\n",
      "C-T-64QFP-40F-D.png\n",
      "(1920, 2560, 3)\n",
      "1920\n",
      "2560\n",
      "C-T-64QFP-41B-D.png\n",
      "(1920, 2560, 3)\n",
      "1920\n",
      "2560\n",
      "C-T-64QFP-41F-D.png\n",
      "(1920, 2560, 3)\n",
      "1920\n",
      "2560\n"
     ]
    }
   ],
   "source": [
    "#Capture images and labels into arrays.\n",
    "#Start by creating empty lists.\n",
    "#SIZE = 128\n",
    "test_images=[]\n",
    "train_images_topleft = []\n",
    "train_images_topRight = []\n",
    "train_images_bottomLeft = []\n",
    "test_images_bottomRight = []\n",
    "test_labels = [] \n",
    "final_images=[]\n",
    "#for directory_path in glob.glob(\"cell_images/train/*\"):\n",
    "for directory_path in glob.glob(r\"C:/Users/fsshi/jupyter notebooks/test/*\"):\n",
    "    label = directory_path.split(\"\\\\\")[-1]\n",
    "    #print(label)\n",
    "    for img_path in glob.glob(os.path.join(directory_path, \"*.png\")):\n",
    "        print(os.path.basename(img_path))\n",
    "        imm= cv2.imread(img_path, 1) #Reading color images\n",
    "        im = cv2.filter2D(src=imm, ddepth=-1, kernel=kernel)\n",
    "        print(im.shape)\n",
    "        h,w= im.shape[:2]\n",
    "        print(h)\n",
    "        print(w)\n",
    "        centerX,centerY=(w//2), (h//2)\n",
    "    \n",
    "        topLeft = im[0:centerY,0:centerX]\n",
    "        topRight = im[0:centerY,centerX:w]\n",
    "        bottomLeft = im[centerY:h,0:centerX]\n",
    "        bottomRight = im[centerY:h,centerX:w]\n",
    "        \n",
    "        train_images_topleft.append(topLeft)\n",
    "        train_images_topRight.append(topRight)\n",
    "        train_images_bottomLeft.append(bottomLeft)\n",
    "        test_images_bottomRight.append(bottomRight)\n",
    "        final_images=train_images_topleft+train_images_topRight+train_images_bottomLeft+train_images_bottomRight\n",
    "     \n",
    "        #img = cv2.resize(img, (SIZE, SIZE)) #Resize images\n",
    "        test_images.append(im)\n",
    "        test_labels.append(label)"
   ]
  },
  {
   "cell_type": "code",
   "execution_count": 274,
   "id": "7973445b",
   "metadata": {},
   "outputs": [
    {
     "name": "stderr",
     "output_type": "stream",
     "text": [
      "C:\\Users\\fsshi\\AppData\\Local\\Temp/ipykernel_5448/24351594.py:4: TqdmDeprecationWarning: This function will be removed in tqdm==5.0.0\n",
      "Please use `tqdm.notebook.tqdm` instead of `tqdm.tqdm_notebook`\n",
      "  for tr in tqdm.tqdm_notebook(range(len(test_images_bottomRight))):\n"
     ]
    },
    {
     "data": {
      "application/vnd.jupyter.widget-view+json": {
       "model_id": "7402457fb4724c8aa20b262338c39e18",
       "version_major": 2,
       "version_minor": 0
      },
      "text/plain": [
       "  0%|          | 0/7 [00:00<?, ?it/s]"
      ]
     },
     "metadata": {},
     "output_type": "display_data"
    },
    {
     "name": "stderr",
     "output_type": "stream",
     "text": [
      "C:\\Users\\fsshi\\AppData\\Local\\Temp/ipykernel_5448/24351594.py:17: RuntimeWarning: divide by zero encountered in log2\n",
      "  lbp_entropy = -np.nansum(np.multiply(lbp_prob,np.log2(lbp_prob)))\n",
      "C:\\Users\\fsshi\\AppData\\Local\\Temp/ipykernel_5448/24351594.py:17: RuntimeWarning: invalid value encountered in multiply\n",
      "  lbp_entropy = -np.nansum(np.multiply(lbp_prob,np.log2(lbp_prob)))\n"
     ]
    }
   ],
   "source": [
    "import pandas as pd\n",
    "featLength = 2+5+2\n",
    "trainFeats = np.zeros((len(test_images_bottomRight),featLength)) #Feature vector of each image is of size 1x1030\n",
    "for tr in tqdm.tqdm_notebook(range(len(test_images_bottomRight))):\n",
    "\n",
    "    img = test_images_bottomRight[tr][0] #One image at a time\n",
    "    #print(img.shape)\n",
    "    img = Image.fromarray(img)\n",
    "    img_gray = img.convert('L') #Converting to grayscale\n",
    "    img_arr = np.array(img.getdata()).reshape(img.size[1],img.size[0]) #Converting to array\n",
    "    # LBP\n",
    "    feat_lbp = local_binary_pattern(img_arr,5,2,'uniform').reshape(img.size[0]*img.size[1])\n",
    "    lbp_hist,_ = np.histogram(feat_lbp,8)\n",
    "    lbp_hist = np.array(lbp_hist,dtype=float)\n",
    "    lbp_prob = np.divide(lbp_hist,np.sum(lbp_hist))\n",
    "    lbp_energy = np.nansum(lbp_prob**2)\n",
    "    lbp_entropy = -np.nansum(np.multiply(lbp_prob,np.log2(lbp_prob)))   \n",
    "    # GLCM\n",
    "    gCoMat = greycomatrix(img_arr, [2], [0],256,symmetric=True, normed=True)\n",
    "    contrast = greycoprops(gCoMat, prop='contrast')\n",
    "    dissimilarity = greycoprops(gCoMat, prop='dissimilarity')\n",
    "    homogeneity = greycoprops(gCoMat, prop='homogeneity')    \n",
    "    energy = greycoprops(gCoMat, prop='energy')\n",
    "    correlation = greycoprops(gCoMat, prop='correlation')    \n",
    "    feat_glcm = np.array([contrast[0][0],dissimilarity[0][0],homogeneity[0][0],energy[0][0],correlation[0][0]])\n",
    "    # Gabor filter\n",
    "    gaborFilt_real,gaborFilt_imag = gabor(img_arr,frequency=0.6)\n",
    "    gaborFilt = (gaborFilt_real**2+gaborFilt_imag**2)//2\n",
    "    gabor_hist,_ = np.histogram(gaborFilt,8)\n",
    "    gabor_hist = np.array(gabor_hist,dtype=float)\n",
    "    gabor_prob = np.divide(gabor_hist,np.sum(gabor_hist))\n",
    "    gabor_energy = np.nansum(gabor_prob**2)\n",
    "    gabor_entropy = -np.nansum(np.multiply(gabor_prob,np.log2(gabor_prob)))\n",
    "    # Concatenating features(2+5+2)    \n",
    "    concat_feat = np.concatenate(([lbp_energy,lbp_entropy],feat_glcm,[gabor_energy,gabor_entropy]),axis=0)\n",
    "    trainFeats[tr,:] = concat_feat #Stacking features vectors for each image\n",
    "    df_test = pd.DataFrame({'lbp_energy': trainFeats[:,0],\n",
    "                       'lbp_entropy': trainFeats[:,1],\n",
    "                       #'contrast': trainFeats[:,2],\n",
    "                       'dissimilarity': trainFeats[:,3],\n",
    "                       'homogeneity': trainFeats[:,4],\n",
    "                       'energy': trainFeats[:,5],\n",
    "                       'correlation': trainFeats[:,6],\n",
    "                       'gabor_energy': trainFeats[:,7],\n",
    "                       'gabor_entropy': trainFeats[:,8]})\n",
    "    \n",
    "    # Class label\n",
    "    #label.append(trainDset[tr][1])\n",
    "#trainLabel = np.array(label) #Conversion from list to array"
   ]
  },
  {
   "cell_type": "code",
   "execution_count": 275,
   "id": "939c0e4f",
   "metadata": {},
   "outputs": [
    {
     "data": {
      "text/html": [
       "<div>\n",
       "<style scoped>\n",
       "    .dataframe tbody tr th:only-of-type {\n",
       "        vertical-align: middle;\n",
       "    }\n",
       "\n",
       "    .dataframe tbody tr th {\n",
       "        vertical-align: top;\n",
       "    }\n",
       "\n",
       "    .dataframe thead th {\n",
       "        text-align: right;\n",
       "    }\n",
       "</style>\n",
       "<table border=\"1\" class=\"dataframe\">\n",
       "  <thead>\n",
       "    <tr style=\"text-align: right;\">\n",
       "      <th></th>\n",
       "      <th>lbp_energy</th>\n",
       "      <th>lbp_entropy</th>\n",
       "      <th>dissimilarity</th>\n",
       "      <th>homogeneity</th>\n",
       "      <th>energy</th>\n",
       "      <th>correlation</th>\n",
       "      <th>gabor_energy</th>\n",
       "      <th>gabor_entropy</th>\n",
       "    </tr>\n",
       "  </thead>\n",
       "  <tbody>\n",
       "    <tr>\n",
       "      <th>0</th>\n",
       "      <td>0.299476</td>\n",
       "      <td>1.842318</td>\n",
       "      <td>2.380469</td>\n",
       "      <td>0.705139</td>\n",
       "      <td>0.672815</td>\n",
       "      <td>0.996163</td>\n",
       "      <td>0.232923</td>\n",
       "      <td>2.257424</td>\n",
       "    </tr>\n",
       "    <tr>\n",
       "      <th>1</th>\n",
       "      <td>0.298885</td>\n",
       "      <td>1.863958</td>\n",
       "      <td>1.785156</td>\n",
       "      <td>0.766721</td>\n",
       "      <td>0.736328</td>\n",
       "      <td>0.997026</td>\n",
       "      <td>0.265418</td>\n",
       "      <td>2.204324</td>\n",
       "    </tr>\n",
       "    <tr>\n",
       "      <th>2</th>\n",
       "      <td>0.310194</td>\n",
       "      <td>1.810624</td>\n",
       "      <td>2.335938</td>\n",
       "      <td>0.887873</td>\n",
       "      <td>0.885187</td>\n",
       "      <td>0.989178</td>\n",
       "      <td>0.425524</td>\n",
       "      <td>1.647605</td>\n",
       "    </tr>\n",
       "    <tr>\n",
       "      <th>3</th>\n",
       "      <td>0.453250</td>\n",
       "      <td>1.369035</td>\n",
       "      <td>11.121094</td>\n",
       "      <td>0.012716</td>\n",
       "      <td>0.420540</td>\n",
       "      <td>0.876012</td>\n",
       "      <td>0.219459</td>\n",
       "      <td>2.346065</td>\n",
       "    </tr>\n",
       "    <tr>\n",
       "      <th>4</th>\n",
       "      <td>0.303384</td>\n",
       "      <td>1.853666</td>\n",
       "      <td>5.303125</td>\n",
       "      <td>0.824592</td>\n",
       "      <td>0.821142</td>\n",
       "      <td>0.972917</td>\n",
       "      <td>0.319846</td>\n",
       "      <td>1.942697</td>\n",
       "    </tr>\n",
       "    <tr>\n",
       "      <th>5</th>\n",
       "      <td>0.433270</td>\n",
       "      <td>1.564371</td>\n",
       "      <td>4.393750</td>\n",
       "      <td>0.817635</td>\n",
       "      <td>0.815680</td>\n",
       "      <td>0.933130</td>\n",
       "      <td>0.790666</td>\n",
       "      <td>0.709375</td>\n",
       "    </tr>\n",
       "    <tr>\n",
       "      <th>6</th>\n",
       "      <td>0.293758</td>\n",
       "      <td>1.944066</td>\n",
       "      <td>4.400781</td>\n",
       "      <td>0.828266</td>\n",
       "      <td>0.814192</td>\n",
       "      <td>0.986131</td>\n",
       "      <td>0.308782</td>\n",
       "      <td>1.924610</td>\n",
       "    </tr>\n",
       "  </tbody>\n",
       "</table>\n",
       "</div>"
      ],
      "text/plain": [
       "   lbp_energy  lbp_entropy  dissimilarity  homogeneity    energy  correlation  \\\n",
       "0    0.299476     1.842318       2.380469     0.705139  0.672815     0.996163   \n",
       "1    0.298885     1.863958       1.785156     0.766721  0.736328     0.997026   \n",
       "2    0.310194     1.810624       2.335938     0.887873  0.885187     0.989178   \n",
       "3    0.453250     1.369035      11.121094     0.012716  0.420540     0.876012   \n",
       "4    0.303384     1.853666       5.303125     0.824592  0.821142     0.972917   \n",
       "5    0.433270     1.564371       4.393750     0.817635  0.815680     0.933130   \n",
       "6    0.293758     1.944066       4.400781     0.828266  0.814192     0.986131   \n",
       "\n",
       "   gabor_energy  gabor_entropy  \n",
       "0      0.232923       2.257424  \n",
       "1      0.265418       2.204324  \n",
       "2      0.425524       1.647605  \n",
       "3      0.219459       2.346065  \n",
       "4      0.319846       1.942697  \n",
       "5      0.790666       0.709375  \n",
       "6      0.308782       1.924610  "
      ]
     },
     "execution_count": 275,
     "metadata": {},
     "output_type": "execute_result"
    }
   ],
   "source": [
    "df_test"
   ]
  },
  {
   "cell_type": "code",
   "execution_count": 276,
   "id": "1d7fa433",
   "metadata": {},
   "outputs": [],
   "source": [
    "test = SVM_model.predict(df_test)"
   ]
  },
  {
   "cell_type": "code",
   "execution_count": 277,
   "id": "d52e1f25",
   "metadata": {},
   "outputs": [
    {
     "data": {
      "text/plain": [
       "array(['1', '1', '1', '1', '1', '1', '1'], dtype='<U1')"
      ]
     },
     "execution_count": 277,
     "metadata": {},
     "output_type": "execute_result"
    }
   ],
   "source": [
    "test"
   ]
  },
  {
   "cell_type": "code",
   "execution_count": 278,
   "id": "b3198530",
   "metadata": {},
   "outputs": [
    {
     "data": {
      "text/plain": [
       "['0', '0', '1', '1', '1', '1', '1']"
      ]
     },
     "execution_count": 278,
     "metadata": {},
     "output_type": "execute_result"
    }
   ],
   "source": [
    "test_labels"
   ]
  },
  {
   "cell_type": "code",
   "execution_count": 279,
   "id": "aafbf565",
   "metadata": {},
   "outputs": [
    {
     "name": "stdout",
     "output_type": "stream",
     "text": [
      "Accuracy =  0.7142857142857143\n",
      "              precision    recall  f1-score   support\n",
      "\n",
      "           0       0.00      0.00      0.00         0\n",
      "           1       1.00      0.71      0.83         7\n",
      "\n",
      "    accuracy                           0.71         7\n",
      "   macro avg       0.50      0.36      0.42         7\n",
      "weighted avg       1.00      0.71      0.83         7\n",
      "\n"
     ]
    },
    {
     "name": "stderr",
     "output_type": "stream",
     "text": [
      "C:\\Users\\fsshi\\anaconda3\\lib\\site-packages\\sklearn\\metrics\\_classification.py:1248: UndefinedMetricWarning: Recall and F-score are ill-defined and being set to 0.0 in labels with no true samples. Use `zero_division` parameter to control this behavior.\n",
      "  _warn_prf(average, modifier, msg_start, len(result))\n",
      "C:\\Users\\fsshi\\anaconda3\\lib\\site-packages\\sklearn\\metrics\\_classification.py:1248: UndefinedMetricWarning: Recall and F-score are ill-defined and being set to 0.0 in labels with no true samples. Use `zero_division` parameter to control this behavior.\n",
      "  _warn_prf(average, modifier, msg_start, len(result))\n",
      "C:\\Users\\fsshi\\anaconda3\\lib\\site-packages\\sklearn\\metrics\\_classification.py:1248: UndefinedMetricWarning: Recall and F-score are ill-defined and being set to 0.0 in labels with no true samples. Use `zero_division` parameter to control this behavior.\n",
      "  _warn_prf(average, modifier, msg_start, len(result))\n"
     ]
    }
   ],
   "source": [
    "from sklearn import metrics\n",
    "from sklearn.metrics import classification_report\n",
    "print (\"Accuracy = \", metrics.accuracy_score(test, test_labels))\n",
    "print(classification_report(test, test_labels))\n",
    "#Print confusion matrix\n",
    "from sklearn.metrics import confusion_matrix\n",
    "cm = confusion_matrix(test, test_labels)"
   ]
  },
  {
   "cell_type": "code",
   "execution_count": 280,
   "id": "8e815765",
   "metadata": {},
   "outputs": [],
   "source": [
    "yhat_test = model.predict(df_test)"
   ]
  },
  {
   "cell_type": "code",
   "execution_count": 281,
   "id": "ec5296b5",
   "metadata": {},
   "outputs": [
    {
     "data": {
      "text/plain": [
       "array(['1', '1', '1', '1', '1', '1', '1'], dtype='<U1')"
      ]
     },
     "execution_count": 281,
     "metadata": {},
     "output_type": "execute_result"
    }
   ],
   "source": [
    "yhat_test"
   ]
  },
  {
   "cell_type": "code",
   "execution_count": null,
   "id": "ec8f695c",
   "metadata": {},
   "outputs": [],
   "source": []
  }
 ],
 "metadata": {
  "kernelspec": {
   "display_name": "Python 3 (ipykernel)",
   "language": "python",
   "name": "python3"
  },
  "language_info": {
   "codemirror_mode": {
    "name": "ipython",
    "version": 3
   },
   "file_extension": ".py",
   "mimetype": "text/x-python",
   "name": "python",
   "nbconvert_exporter": "python",
   "pygments_lexer": "ipython3",
   "version": "3.9.7"
  }
 },
 "nbformat": 4,
 "nbformat_minor": 5
}
